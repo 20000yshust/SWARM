{
 "cells": [
  {
   "cell_type": "markdown",
   "id": "ebd66700",
   "metadata": {},
   "source": [
    "## Demo_Landscape\n",
    "This is a demo for visualizing the Landscape of a Neuron Network\n",
    "\n",
    "To run this demo from scratch, you need first generate a BadNet attack result by using the following cell"
   ]
  },
  {
   "cell_type": "code",
   "execution_count": null,
   "id": "b950f4fc",
   "metadata": {},
   "outputs": [],
   "source": [
    "! python ../../attack/badnet.py --save_folder_name badnet_demo"
   ]
  },
  {
   "cell_type": "markdown",
   "id": "8f81f973",
   "metadata": {},
   "source": [
    "or run the following command in your terminal\n",
    "\n",
    "```python attack/badnet.py --save_folder_name badnet_demo```"
   ]
  },
  {
   "cell_type": "markdown",
   "id": "5465b02c",
   "metadata": {},
   "source": [
    "**Remark**: **Message Passing Interface (MPI)** is needed to accelerate the computation of loss landscape. \n",
    "\n",
    "To install it, you can run the following commands in your terminal:\n",
    "\n",
    "```sudo apt install libopenmpi-dev```\n",
    "\n",
    "```pip install mpi4py```\n",
    "\n",
    "Finally, you need also clone the repo https://github.com/tomgoldstein/loss-landscape to the ***visualization*** folder.\n",
    "\n",
    "For more information, please refer to ***readme file***."
   ]
  },
  {
   "cell_type": "markdown",
   "id": "87bd9f5a",
   "metadata": {},
   "source": [
    "### Step 1: Import modules and set arguments"
   ]
  },
  {
   "cell_type": "code",
   "execution_count": 1,
   "id": "71b7087b",
   "metadata": {},
   "outputs": [
    {
     "name": "stderr",
     "output_type": "stream",
     "text": [
      "/usr/local/anaconda3/envs/py38/lib/python3.8/site-packages/torchvision/io/image.py:13: UserWarning: Failed to load image Python extension: libc10_hip.so: cannot open shared object file: No such file or directory\n",
      "  warn(f\"Failed to load image Python extension: {e}\")\n"
     ]
    }
   ],
   "source": [
    "import sys, os\n",
    "import yaml\n",
    "import torch\n",
    "import numpy as np\n",
    "import torchvision.transforms as transforms\n",
    "import socket\n",
    "sys.path.append(\"../\")\n",
    "sys.path.append(\"../../\")\n",
    "sys.path.append(\"../loss-landscape\")\n",
    "sys.path.append(os.getcwd())\n",
    "from visual_utils import *\n",
    "from utils.aggregate_block.dataset_and_transform_generate import (\n",
    "    get_transform,\n",
    "    get_dataset_denormalization,\n",
    ")\n",
    "from utils.aggregate_block.fix_random import fix_random\n",
    "from utils.aggregate_block.model_trainer_generate import generate_cls_model\n",
    "from utils.save_load_attack import load_attack_result\n",
    "from utils.defense_utils.dbd.model.utils import (\n",
    "    get_network_dbd,\n",
    "    load_state,\n",
    "    get_criterion,\n",
    "    get_optimizer,\n",
    "    get_scheduler,\n",
    ")\n",
    "from utils.defense_utils.dbd.model.model import SelfModel, LinearModel\n",
    "\n",
    "import projection as proj\n",
    "import net_plotter as net_plotter\n",
    "import plot_2D as plot_2D\n",
    "import plot_surface as plot_surface\n"
   ]
  },
  {
   "cell_type": "code",
   "execution_count": 2,
   "id": "2fb719c7",
   "metadata": {},
   "outputs": [],
   "source": [
    "### Basic setting: args\n",
    "args = get_args(True)\n",
    "\n",
    "########## For Demo Only ##########\n",
    "args.yaml_path = \"../../\"+args.yaml_path\n",
    "args.result_file_attack = \"badnet_demo\"\n",
    "######## End For Demo Only ##########\n",
    "\n",
    "with open(args.yaml_path, \"r\") as stream:\n",
    "    config = yaml.safe_load(stream)\n",
    "config.update({k: v for k, v in args.__dict__.items() if v is not None})\n",
    "args.__dict__ = config\n",
    "args = preprocess_args(args)\n",
    "fix_random(int(args.random_seed))\n",
    "\n",
    "save_path_attack = \"../..//record/\" + args.result_file_attack\n"
   ]
  },
  {
   "cell_type": "markdown",
   "id": "f959b510",
   "metadata": {},
   "source": [
    "### Step 2: Load data"
   ]
  },
  {
   "cell_type": "code",
   "execution_count": 3,
   "id": "b8b67ac9",
   "metadata": {},
   "outputs": [
    {
     "name": "stderr",
     "output_type": "stream",
     "text": [
      "WARNING:root:save_path MUST have 'record' in its abspath, and data_path in attack result MUST have 'data' in its path\n"
     ]
    },
    {
     "name": "stdout",
     "output_type": "stream",
     "text": [
      "Files already downloaded and verified\n",
      "Files already downloaded and verified\n",
      "loading...\n",
      "Create visualization dataset with \n",
      " \t Dataset: clean_train \n",
      " \t Number of samples: 50000  \n",
      " \t Selected classes: [0 1 2 3 4 5 6 7 8 9]\n"
     ]
    }
   ],
   "source": [
    "# Load result\n",
    "result_attack = load_attack_result(save_path_attack + \"/attack_result.pt\")\n",
    "selected_classes = np.arange(args.num_classes)\n",
    "\n",
    "# keep the same transforms for train and test dataset for better visualization\n",
    "result_attack[\"clean_train\"].wrap_img_transform = result_attack[\"clean_test\"].wrap_img_transform \n",
    "result_attack[\"bd_train\"].wrap_img_transform = result_attack[\"bd_test\"].wrap_img_transform \n",
    "\n",
    "# Create dataset\n",
    "args.visual_dataset = 'clean_train'\n",
    "if args.visual_dataset == 'clean_train':\n",
    "    visual_dataset = result_attack[\"clean_train\"]\n",
    "elif args.visual_dataset == 'bd_train':  \n",
    "    visual_dataset = result_attack[\"bd_train\"]\n",
    "    visual_dataset.getitem_all = False # only return img and label\n",
    "    \n",
    "else:\n",
    "    assert False, \"Illegal vis_class\"\n",
    "\n",
    "print(f'Create visualization dataset with \\n \\t Dataset: {args.visual_dataset} \\n \\t Number of samples: {len(visual_dataset)}  \\n \\t Selected classes: {selected_classes}')\n",
    "\n",
    "# Create data loader\n",
    "data_loader = torch.utils.data.DataLoader(\n",
    "    visual_dataset, batch_size=args.batch_size, num_workers=args.num_workers, shuffle=False\n",
    ")\n",
    "\n",
    "# Create denormalization function\n",
    "for trans_t in data_loader.dataset.wrap_img_transform.transforms:\n",
    "    if isinstance(trans_t, transforms.Normalize):\n",
    "        denormalizer = get_dataset_denormalization(trans_t)\n",
    "\n"
   ]
  },
  {
   "cell_type": "markdown",
   "id": "e3f652e5",
   "metadata": {},
   "source": [
    "### Step 3: Load Model"
   ]
  },
  {
   "cell_type": "code",
   "execution_count": 4,
   "id": "ff67e7b8",
   "metadata": {},
   "outputs": [
    {
     "name": "stdout",
     "output_type": "stream",
     "text": [
      "Load model preactresnet18 from badnet_demo\n"
     ]
    }
   ],
   "source": [
    "# Load model\n",
    "model_visual = generate_cls_model(args.model, args.num_classes)\n",
    "model_visual.load_state_dict(result_attack[\"model\"])\n",
    "model_visual\n",
    "# !!! Important to set eval mode !!!\n",
    "model_visual.eval()\n",
    "print(f\"Load model {args.model} from {args.result_file_attack}\")"
   ]
  },
  {
   "cell_type": "markdown",
   "id": "cc952077",
   "metadata": {},
   "source": [
    "### Step 4: Setup parameters for Loss Landscape"
   ]
  },
  {
   "cell_type": "code",
   "execution_count": 5,
   "id": "94612903",
   "metadata": {},
   "outputs": [
    {
     "name": "stdout",
     "output_type": "stream",
     "text": [
      "Rank 0 use GPU 0 of 8 GPUs on ai07\n"
     ]
    },
    {
     "name": "stderr",
     "output_type": "stream",
     "text": [
      "No protocol specified\n"
     ]
    }
   ],
   "source": [
    "import mpi4pytorch as mpi\n",
    "\n",
    "# Set range for landscape\n",
    "args.x = '-1:1:5'\n",
    "args.y = '-1:1:5'\n",
    "\n",
    "# Additional Agrs for Loss Landscape\n",
    "args.mpi=True\n",
    "args.cuda=True\n",
    "args.show = False\n",
    "args.model_file = save_path_attack\n",
    "args.model_file1 = \"\"\n",
    "args.model_fil2 = \"\"\n",
    "args.data_split = 0\n",
    "args.proj_file = \"\"\n",
    "\n",
    "#--------------------------------------------------------------------------\n",
    "# Environment setup\n",
    "#--------------------------------------------------------------------------\n",
    "\n",
    "if args.mpi:\n",
    "    comm = mpi.setup_MPI()\n",
    "    rank, nproc = comm.Get_rank(), comm.Get_size()\n",
    "else:\n",
    "    comm, rank, nproc = None, 0, 1\n",
    "\n",
    "# in case of multiple GPUs per node, set the GPU to use for each rank\n",
    "if args.cuda:\n",
    "    if not torch.cuda.is_available():\n",
    "        raise Exception('User selected cuda option, but cuda is not available on this machine')\n",
    "    gpu_count = torch.cuda.device_count()\n",
    "    torch.cuda.set_device(rank % gpu_count)\n",
    "    print('Rank %d use GPU %d of %d GPUs on %s' %\n",
    "          (rank, torch.cuda.current_device(), gpu_count, socket.gethostname()))\n",
    "    \n",
    "#--------------------------------------------------------------------------\n",
    "# Check plotting resolution\n",
    "#--------------------------------------------------------------------------\n",
    "try:\n",
    "    args.xmin, args.xmax, args.xnum = [float(a) for a in args.x.split(':')]\n",
    "    args.ymin, args.ymax, args.ynum = (None, None, None)\n",
    "    args.xnum = int(args.xnum)\n",
    "    if args.y:\n",
    "        args.ymin, args.ymax, args.ynum = [float(a) for a in args.y.split(':')]\n",
    "        assert args.ymin and args.ymax and args.ynum, \\\n",
    "        'You specified some arguments for the y axis, but not all'\n",
    "        args.ynum = int(args.ynum)\n",
    "except:\n",
    "    raise Exception('Improper format for x- or y-coordinates. Try something like -1:1:51')"
   ]
  },
  {
   "cell_type": "markdown",
   "id": "1b549f20",
   "metadata": {},
   "source": [
    "### Step 5: Setup directions"
   ]
  },
  {
   "cell_type": "code",
   "execution_count": 6,
   "id": "543f9755",
   "metadata": {},
   "outputs": [
    {
     "name": "stdout",
     "output_type": "stream",
     "text": [
      "-------------------------------------------------------------------\n",
      "setup_direction\n",
      "-------------------------------------------------------------------\n",
      "../..//record/badnet_demo_weights_xignore=biasbn_xnorm=filter_yignore=biasbn_ynorm=filter.h5 is already setted up\n",
      "../..//record/badnet_demo_weights_xignore=biasbn_xnorm=filter_yignore=biasbn_ynorm=filter.h5_[-1.0,1.0,5]x[-1.0,1.0,5].h5 is already set up\n"
     ]
    }
   ],
   "source": [
    "#--------------------------------------------------------------------------\n",
    "# Extract model parameters\n",
    "#--------------------------------------------------------------------------\n",
    "w = net_plotter.get_weights(model_visual) # initial parameters\n",
    "s = copy.deepcopy(model_visual.state_dict()) # deepcopy since state_dict are references\n",
    "if args.ngpu > 1:\n",
    "    # data parallel with multiple GPUs on a single node\n",
    "    net = torch.nn.DataParallel(model_visual, device_ids=range(torch.cuda.device_count()))\n",
    "\n",
    "\n",
    "#--------------------------------------------------------------------------\n",
    "# Setup the direction file and the surface file\n",
    "#--------------------------------------------------------------------------\n",
    "dir_file = net_plotter.name_direction_file(args) # name the direction file\n",
    "if rank == 0:\n",
    "    net_plotter.setup_direction(args, dir_file, model_visual)\n",
    "\n",
    "surf_file = plot_surface.name_surface_file(args, dir_file)\n",
    "if rank == 0:\n",
    "    plot_surface.setup_surface_file(args, surf_file, dir_file)"
   ]
  },
  {
   "cell_type": "code",
   "execution_count": 7,
   "id": "11402470",
   "metadata": {},
   "outputs": [
    {
     "name": "stdout",
     "output_type": "stream",
     "text": [
      "cosine similarity between x-axis and y-axis: -0.000373\n"
     ]
    }
   ],
   "source": [
    "# load directions\n",
    "d = net_plotter.load_directions(dir_file)\n",
    "# calculate the consine similarity of the two directions\n",
    "if len(d) == 2 and rank == 0:\n",
    "    similarity = proj.cal_angle(proj.nplist_to_tensor(d[0]), proj.nplist_to_tensor(d[1]))\n",
    "    print('cosine similarity between x-axis and y-axis: %f' % similarity)\n"
   ]
  },
  {
   "cell_type": "markdown",
   "id": "51109487",
   "metadata": {},
   "source": [
    "### Step 6: Computation"
   ]
  },
  {
   "cell_type": "code",
   "execution_count": 8,
   "id": "5eb99a67",
   "metadata": {},
   "outputs": [
    {
     "name": "stdout",
     "output_type": "stream",
     "text": [
      "Computing 0 values for rank 0\n",
      "Rank 0 done!  Total time: 0.00 Sync: 0.00\n"
     ]
    }
   ],
   "source": [
    "#--------------------------------------------------------------------------\n",
    "# Start the computation\n",
    "#--------------------------------------------------------------------------\n",
    "plot_surface.crunch(surf_file, model_visual, w, s, d, data_loader, 'train_loss', 'train_acc', comm, rank, args)\n"
   ]
  },
  {
   "cell_type": "markdown",
   "id": "a9b94261",
   "metadata": {},
   "source": [
    "### Step 7: Show the Landscape"
   ]
  },
  {
   "cell_type": "code",
   "execution_count": 9,
   "id": "65f7e8a9",
   "metadata": {
    "scrolled": false
   },
   "outputs": [
    {
     "data": {
      "text/plain": [
       "Text(0.5, 0, 'z')"
      ]
     },
     "execution_count": 9,
     "metadata": {},
     "output_type": "execute_result"
    },
    {
     "data": {
      "image/png": "[encoded data removed]",
      "text/plain": [
       "<Figure size 640x480 with 2 Axes>"
      ]
     },
     "metadata": {},
     "output_type": "display_data"
    }
   ],
   "source": [
    "#--------------------------------------------------------------------------\n",
    "# Plot figures\n",
    "#--------------------------------------------------------------------------\n",
    "\n",
    "import h5py\n",
    "from mpl_toolkits.mplot3d import Axes3D\n",
    "from matplotlib import pyplot as plt\n",
    "from matplotlib import cm\n",
    "from mpl_toolkits.mplot3d import Axes3D\n",
    "\n",
    "f = h5py.File(surf_file, 'r')\n",
    "x = np.array(f['xcoordinates'][:])\n",
    "y = np.array(f['ycoordinates'][:])\n",
    "X, Y = np.meshgrid(x, y)\n",
    "\n",
    "surf_name = \"train_loss\"\n",
    "\n",
    "if surf_name in f.keys():\n",
    "    Z = np.array(f[surf_name][:])\n",
    "elif surf_name == 'train_err' or surf_name == 'test_err' :\n",
    "    Z = 100 - np.array(f[surf_name][:])\n",
    "else:\n",
    "    print ('%s is not found in %s' % (surf_name, surf_file))\n",
    "\n",
    "# --------------------------------------------------------------------\n",
    "# Plot 3D surface\n",
    "# --------------------------\n",
    "fig = plt.figure()\n",
    "\n",
    "def Axes3D(fig):\n",
    "    return fig.add_subplot(projection='3d')\n",
    "ax = Axes3D(fig)\n",
    "surf = ax.plot_surface(X, Y, Z, cmap=cm.coolwarm, linewidth=0, antialiased=False)\n",
    "fig.colorbar(surf, shrink=0.5, aspect=5)\n",
    "\n",
    "ax.set_xlabel('x')\n",
    "ax.set_ylabel('y')\n",
    "ax.set_zlabel('z')\n",
    "\n"
   ]
  },
  {
   "cell_type": "code",
   "execution_count": null,
   "id": "b5aef284",
   "metadata": {},
   "outputs": [],
   "source": [
    "# Another way to show the results is the function provided by plot_2D\n",
    "if rank == 0:\n",
    "    args.vmin = 0.1 \n",
    "    args.vmax = 10 \n",
    "    args.vlevel = 0.5    \n",
    "    if args.y and args.proj_file:\n",
    "        plot_2D.plot_contour_trajectory(surf_file, dir_file, args.proj_file, 'train_loss', args.show)\n",
    "    elif args.y:\n",
    "        plot_2D.plot_2d_contour(surf_file, 'train_loss', args.vmin, args.vmax, args.vlevel, args.show)\n",
    "    else:\n",
    "        plot_1D.plot_1d_loss_err(surf_file, args.xmin, args.xmax, args.loss_max, args.log, args.show)\n"
   ]
  }
 ],
 "metadata": {
  "kernelspec": {
   "display_name": "Python 3 (ipykernel)",
   "language": "python",
   "name": "python3"
  },
  "language_info": {
   "codemirror_mode": {
    "name": "ipython",
    "version": 3
   },
   "file_extension": ".py",
   "mimetype": "text/x-python",
   "name": "python",
   "nbconvert_exporter": "python",
   "pygments_lexer": "ipython3",
   "version": "3.9.12"
  },
  "vscode": {
   "interpreter": {
    "hash": "6869619afde5ccaa692f7f4d174735a0f86b1f7ceee086952855511b0b6edec0"
   }
  }
 },
 "nbformat": 4,
 "nbformat_minor": 5
}
