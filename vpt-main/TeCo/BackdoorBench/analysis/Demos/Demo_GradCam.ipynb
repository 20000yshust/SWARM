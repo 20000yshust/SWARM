{
 "cells": [
  {
   "cell_type": "markdown",
   "id": "ebd66700",
   "metadata": {},
   "source": [
    "## Demo_GradCam\n",
    "This is a demo for visualizing the Grad-CAM of a Neuron Network\n",
    "\n",
    "To run this demo from scratch, you need first generate a BadNet attack result by using the following cell"
   ]
  },
  {
   "cell_type": "code",
   "execution_count": null,
   "id": "b950f4fc",
   "metadata": {},
   "outputs": [],
   "source": [
    "! python ../../attack/badnet.py - -save_folder_name badnet_demo\n"
   ]
  },
  {
   "cell_type": "markdown",
   "id": "8f81f973",
   "metadata": {},
   "source": [
    "or run the following command in your terminal\n",
    "\n",
    "```python attack/badnet.py --save_folder_name badnet_demo```"
   ]
  },
  {
   "cell_type": "markdown",
   "id": "87bd9f5a",
   "metadata": {},
   "source": [
    "### Step 1: Import modules and set arguments"
   ]
  },
  {
   "cell_type": "code",
   "execution_count": 1,
   "id": "71b7087b",
   "metadata": {},
   "outputs": [],
   "source": [
    "import sys, os\n",
    "import yaml\n",
    "import torch\n",
    "import shap\n",
    "import numpy as np\n",
    "import torchvision.transforms as transforms\n",
    "\n",
    "sys.path.append(\"../\")\n",
    "sys.path.append(\"../../\")\n",
    "sys.path.append(os.getcwd())\n",
    "from visual_utils import *\n",
    "from utils.aggregate_block.dataset_and_transform_generate import (\n",
    "    get_transform,\n",
    "    get_dataset_denormalization,\n",
    ")\n",
    "from utils.aggregate_block.fix_random import fix_random\n",
    "from utils.aggregate_block.model_trainer_generate import generate_cls_model\n",
    "from utils.save_load_attack import load_attack_result\n",
    "from utils.defense_utils.dbd.model.utils import (\n",
    "    get_network_dbd,\n",
    "    load_state,\n",
    "    get_criterion,\n",
    "    get_optimizer,\n",
    "    get_scheduler,\n",
    ")\n",
    "from utils.defense_utils.dbd.model.model import SelfModel, LinearModel\n",
    "from pytorch_grad_cam import (\n",
    "    GradCAM,\n",
    "    ScoreCAM,\n",
    "    GradCAMPlusPlus,\n",
    "    AblationCAM,\n",
    "    XGradCAM,\n",
    "    EigenCAM,\n",
    "    FullGrad,\n",
    ")\n",
    "from pytorch_grad_cam.utils.image import show_cam_on_image"
   ]
  },
  {
   "cell_type": "code",
   "execution_count": 2,
   "id": "2fb719c7",
   "metadata": {},
   "outputs": [],
   "source": [
    "# Basic setting: args\n",
    "args = get_args(True)\n",
    "\n",
    "########## For Demo Only ##########\n",
    "args.yaml_path = \"../../\"+args.yaml_path\n",
    "args.result_file_attack = \"badnet_demo\"\n",
    "######## End For Demo Only ##########\n",
    "\n",
    "with open(args.yaml_path, \"r\") as stream:\n",
    "    config = yaml.safe_load(stream)\n",
    "config.update({k: v for k, v in args.__dict__.items() if v is not None})\n",
    "args.__dict__ = config\n",
    "args = preprocess_args(args)\n",
    "fix_random(int(args.random_seed))\n",
    "\n",
    "save_path_attack = \"../..//record/\" + args.result_file_attack\n"
   ]
  },
  {
   "cell_type": "markdown",
   "id": "f959b510",
   "metadata": {},
   "source": [
    "### Step 2: Load data"
   ]
  },
  {
   "cell_type": "code",
   "execution_count": 3,
   "id": "b8b67ac9",
   "metadata": {},
   "outputs": [
    {
     "name": "stderr",
     "output_type": "stream",
     "text": [
      "WARNING:root:save_path MUST have 'record' in its abspath, and data_path in attack result MUST have 'data' in its path\n"
     ]
    },
    {
     "name": "stdout",
     "output_type": "stream",
     "text": [
      "Files already downloaded and verified\n",
      "Files already downloaded and verified\n",
      "loading...\n",
      "max_num_samples is given, use sample number limit now.\n",
      "subset bd dataset with length:  4995\n",
      "Create visualization dataset with \n",
      " \t Dataset: bd_test \n",
      " \t Number of samples: 4995  \n",
      " \t Selected classes: [0 1 2 3 4 5 6 7 8 9]\n"
     ]
    }
   ],
   "source": [
    "# Load result\n",
    "result_attack = load_attack_result(save_path_attack + \"/attack_result.pt\")\n",
    "selected_classes = np.arange(args.num_classes)\n",
    "\n",
    "# Select classes to visualize\n",
    "if args.num_classes > args.c_sub:\n",
    "    selected_classes = np.delete(selected_classes, args.target_class)\n",
    "    selected_classes = np.random.choice(\n",
    "        selected_classes, args.c_sub-1, replace=False)\n",
    "    selected_classes = np.append(selected_classes, args.target_class)\n",
    "\n",
    "# keep the same transforms for train and test dataset for better visualization\n",
    "result_attack[\"clean_train\"].wrap_img_transform = result_attack[\"clean_test\"].wrap_img_transform \n",
    "result_attack[\"bd_train\"].wrap_img_transform = result_attack[\"bd_test\"].wrap_img_transform \n",
    "\n",
    "# Create dataset\n",
    "args.visual_dataset = 'bd_test'\n",
    "if args.visual_dataset == 'mixed':\n",
    "    bd_test_with_trans = result_attack[\"bd_test\"]\n",
    "    visual_dataset = generate_mix_dataset(\n",
    "        bd_test_with_trans, args.target_class, args.pratio, selected_classes, max_num_samples=args.n_sub)\n",
    "elif args.visual_dataset == 'clean_train':\n",
    "    clean_train_with_trans = result_attack[\"clean_train\"]\n",
    "    visual_dataset = generate_clean_dataset(\n",
    "        clean_train_with_trans, selected_classes, max_num_samples=args.n_sub)\n",
    "elif args.visual_dataset == 'clean_test':\n",
    "    clean_test_with_trans = result_attack[\"clean_test\"]\n",
    "    visual_dataset = generate_clean_dataset(\n",
    "        clean_test_with_trans, selected_classes, max_num_samples=args.n_sub)\n",
    "elif args.visual_dataset == 'bd_train':\n",
    "    bd_train_with_trans = result_attack[\"bd_train\"]\n",
    "    visual_dataset = generate_bd_dataset(\n",
    "        bd_train_with_trans, args.target_class, selected_classes, max_num_samples=args.n_sub)\n",
    "elif args.visual_dataset == 'bd_test':\n",
    "    bd_test_with_trans = result_attack[\"bd_test\"]\n",
    "    visual_dataset = generate_bd_dataset(\n",
    "        bd_test_with_trans, args.target_class, selected_classes, max_num_samples=args.n_sub)\n",
    "else:\n",
    "    assert False, \"Illegal vis_class\"\n",
    "\n",
    "print(\n",
    "    f'Create visualization dataset with \\n \\t Dataset: {args.visual_dataset} \\n \\t Number of samples: {len(visual_dataset)}  \\n \\t Selected classes: {selected_classes}')\n",
    "\n",
    "# Create data loader\n",
    "data_loader = torch.utils.data.DataLoader(\n",
    "    visual_dataset, batch_size=args.batch_size, num_workers=args.num_workers, shuffle=False\n",
    ")\n",
    "\n",
    "# Create denormalization function\n",
    "for trans_t in data_loader.dataset.wrap_img_transform.transforms:\n",
    "    if isinstance(trans_t, transforms.Normalize):\n",
    "        denormalizer = get_dataset_denormalization(trans_t)\n"
   ]
  },
  {
   "cell_type": "code",
   "execution_count": 4,
   "id": "39104beb",
   "metadata": {},
   "outputs": [
    {
     "name": "stdout",
     "output_type": "stream",
     "text": [
      "Number Poisoned samples: 4995\n",
      "Select 2 poisoned samples\n",
      "Select 2 clean samples\n"
     ]
    }
   ],
   "source": [
    "# Choose samples to show Grad-CAM values. By Default, 2 clean images + 2 Poison images. If no enough Poison images, use 4 clean images instead.AblationCAM\n",
    "total_num = 4\n",
    "bd_num = 0\n",
    "\n",
    "visual_samples = []\n",
    "visual_labels = []\n",
    "\n",
    "visual_poison_indicator = np.array(\n",
    "    get_poison_indicator_from_bd_dataset(visual_dataset))\n",
    "if visual_poison_indicator.sum() > 0:\n",
    "    print(f'Number Poisoned samples: {visual_poison_indicator.sum()}')\n",
    "    # random choose two poisoned samples\n",
    "    selected_bd_idx = np.random.choice(\n",
    "        np.where(visual_poison_indicator == 1)[0], 2, replace=False)\n",
    "    for i in selected_bd_idx:\n",
    "        visual_samples.append(visual_dataset[i][0].unsqueeze(0))\n",
    "        visual_labels.append(visual_dataset[i][4])\n",
    "    bd_num = len(selected_bd_idx)\n",
    "    print(f'Select {bd_num} poisoned samples')\n",
    "\n",
    "# Trun all samples to clean\n",
    "with temporary_all_clean(visual_dataset):\n",
    "    # you can just set selected_clean_idx = selected_bd_idx to build the correspondence between clean samples and poisoned samples\n",
    "    selected_clean_idx = np.random.choice(\n",
    "        len(visual_dataset), total_num-bd_num, replace=False)\n",
    "    for i in selected_clean_idx:\n",
    "        visual_samples.append(visual_dataset[i][0].unsqueeze(0))\n",
    "        visual_labels.append(visual_dataset[i][1])\n",
    "    print(f'Select {len(selected_clean_idx)} clean samples')\n",
    "\n",
    "# Clean sample first\n",
    "visual_samples = visual_samples[::-1]\n",
    "visual_labels = visual_labels[::-1]\n",
    "\n",
    "visual_samples = torch.cat(visual_samples, axis=0).to(args.device)\n"
   ]
  },
  {
   "cell_type": "markdown",
   "id": "e3f652e5",
   "metadata": {},
   "source": [
    "### Step 3: Load Model"
   ]
  },
  {
   "cell_type": "code",
   "execution_count": 5,
   "id": "ff67e7b8",
   "metadata": {},
   "outputs": [
    {
     "name": "stdout",
     "output_type": "stream",
     "text": [
      "Load model preactresnet18 from badnet_demo\n"
     ]
    }
   ],
   "source": [
    "# Load model\n",
    "model_visual = generate_cls_model(args.model, args.num_classes)\n",
    "model_visual.load_state_dict(result_attack[\"model\"])\n",
    "model_visual.to(args.device)\n",
    "# !!! Important to set eval mode !!!\n",
    "model_visual.eval()\n",
    "print(f\"Load model {args.model} from {args.result_file_attack}\")\n"
   ]
  },
  {
   "cell_type": "markdown",
   "id": "cc952077",
   "metadata": {},
   "source": [
    "### Step 4: Plot Grad-CAM"
   ]
  },
  {
   "cell_type": "code",
   "execution_count": 6,
   "id": "94612903",
   "metadata": {},
   "outputs": [
    {
     "name": "stdout",
     "output_type": "stream",
     "text": [
      "Plotting Grad-CAM\n",
      "Choose layer layer4.1.conv2 from model preactresnet18\n",
      "Warning: target_layers is ignored in FullGrad. All bias layers will be used instead\n"
     ]
    },
    {
     "data": {
      "image/png": "[encoded data removed]",
      "text/plain": [
       "<Figure size 1440x720 with 8 Axes>"
      ]
     },
     "metadata": {
      "needs_background": "light"
     },
     "output_type": "display_data"
    }
   ],
   "source": [
    "############## Grad-CAM ##################\n",
    "print('Plotting Grad-CAM')\n",
    "\n",
    "module_dict = dict(model_visual.named_modules())\n",
    "target_layer = module_dict[args.target_layer_name]\n",
    "print(f'Choose layer {args.target_layer_name} from model {args.model}')\n",
    "\n",
    "sfm = torch.nn.Softmax(dim=1)\n",
    "outputs = model_visual(visual_samples)\n",
    "pre_p, pre_label = torch.max(sfm(outputs), dim=1)\n",
    "\n",
    "cam = FullGrad(model=model_visual, target_layers=[\n",
    "               target_layer], use_cuda=True if args.device == 'cuda' else False)\n",
    "\n",
    "targets = None\n",
    "\n",
    "# You can also pass aug_smooth=True and eigen_smooth=True, to apply smoothing.\n",
    "grayscale_cam_full = cam(input_tensor=visual_samples, targets=targets)\n",
    "\n",
    "grayscale_cam = grayscale_cam_full[0, :]\n",
    "rgb_image = np.swapaxes(\n",
    "    np.swapaxes(denormalizer(visual_samples[0]).cpu().numpy(), 0, 1), 1, 2\n",
    ")\n",
    "visual_cam = show_cam_on_image(rgb_image, grayscale_cam, use_rgb=True)\n",
    "\n",
    "# get the names for the classes\n",
    "class_names = np.array(args.class_names).reshape([-1])\n",
    "\n",
    "fig, axes = plt.subplots(nrows=2, ncols=4, figsize=(20, 10))\n",
    "for im in range(4):\n",
    "    grayscale_cam = grayscale_cam_full[im, :]\n",
    "    rgb_image = np.swapaxes(\n",
    "        np.swapaxes(denormalizer(visual_samples[im]).cpu().numpy(), 0, 1), 1, 2\n",
    "    )\n",
    "    rgb_image[rgb_image < 1e-12] = 1e-12\n",
    "    visual_cam = show_cam_on_image(rgb_image, grayscale_cam, use_rgb=True)\n",
    "    axes[im // 2, im % 2 * 2].imshow(rgb_image)\n",
    "    axes[im // 2, im % 2 * 2].axis(\"off\")\n",
    "    axes[im // 2, im % 2 * 2].set_title(\n",
    "        \"Original Image: %s\" % (class_names[visual_labels[im]].capitalize())\n",
    "    )\n",
    "    axes[im // 2, im % 2 * 2 + 1].imshow(visual_cam)\n",
    "    axes[im // 2, im % 2 * 2 + 1].axis(\"off\")\n",
    "    axes[im // 2, im % 2 * 2 + 1].set_title(\n",
    "        \"Predicted: %s, %.2f%%\" % (\n",
    "            class_names[pre_label[im]].capitalize(), pre_p[im] * 100)\n",
    "    )\n"
   ]
  }
 ],
 "metadata": {
  "kernelspec": {
   "display_name": "Python 3 (ipykernel)",
   "language": "python",
   "name": "python3"
  },
  "language_info": {
   "codemirror_mode": {
    "name": "ipython",
    "version": 3
   },
   "file_extension": ".py",
   "mimetype": "text/x-python",
   "name": "python",
   "nbconvert_exporter": "python",
   "pygments_lexer": "ipython3",
   "version": "3.8.10 (default, Nov 14 2022, 12:59:47) \n[GCC 9.4.0]"
  },
  "vscode": {
   "interpreter": {
    "hash": "31f2aee4e71d21fbe5cf8b01ff0e069b9275f58929596ceb00d14d90e3e16cd6"
   }
  }
 },
 "nbformat": 4,
 "nbformat_minor": 5
}
